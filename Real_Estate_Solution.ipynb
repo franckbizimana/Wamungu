{
  "cells": [
    {
      "cell_type": "markdown",
      "metadata": {
        "id": "view-in-github",
        "colab_type": "text"
      },
      "source": [
        "<a href=\"https://colab.research.google.com/github/franckbizimana/Wamungu/blob/main/Real_Estate_Solution.ipynb\" target=\"_parent\"><img src=\"https://colab.research.google.com/assets/colab-badge.svg\" alt=\"Open In Colab\"/></a>"
      ]
    },
    {
      "cell_type": "markdown",
      "metadata": {
        "id": "kaUM-ZFAB8Mp"
      },
      "source": [
        "# Model Training"
      ]
    },
    {
      "cell_type": "markdown",
      "metadata": {
        "id": "cFf7pWG_B8Mv"
      },
      "source": [
        "### scikit - learn\n",
        "\n",
        "https://scikit-learn.org/stable/\n",
        "\n",
        "scikitlearn (sklearn) provides simple and efficient tools for predictive data analysis. It is built on NumPy, SciPy, and matplotlib."
      ]
    },
    {
      "cell_type": "markdown",
      "metadata": {
        "id": "AhBpzHuBB8Mw"
      },
      "source": [
        "First thing, Import all the libraries"
      ]
    },
    {
      "cell_type": "code",
      "execution_count": 1,
      "metadata": {
        "id": "5d7fUsUcB8Mx"
      },
      "outputs": [],
      "source": [
        "import pandas as pd\n",
        "import numpy as np\n",
        "import matplotlib.pyplot as plt\n",
        "%matplotlib inline\n",
        "pd.set_option('display.max_columns', 50)"
      ]
    },
    {
      "cell_type": "code",
      "execution_count": 2,
      "metadata": {
        "scrolled": true,
        "colab": {
          "base_uri": "https://localhost:8080/",
          "height": 226
        },
        "id": "mufwvOM9B8M1",
        "outputId": "a79fd91b-9eb4-4599-a325-7a94a259d5ff"
      },
      "outputs": [
        {
          "output_type": "execute_result",
          "data": {
            "text/plain": [
              "    price  year_sold  property_tax  insurance  beds  baths  sqft  year_built  \\\n",
              "0  295850       2013           234         81     1      1   584        2013   \n",
              "1  216500       2006           169         51     1      1   612        1965   \n",
              "2  279900       2012           216         74     1      1   615        1963   \n",
              "3  379900       2005           265         92     1      1   618        2000   \n",
              "4  340000       2002            88         30     1      1   634        1992   \n",
              "\n",
              "   lot_size  basement  popular  recession  property_age  \\\n",
              "0         0         0        0          1             0   \n",
              "1         0         1        0          0            41   \n",
              "2         0         0        0          1            49   \n",
              "3     33541         0        0          0             5   \n",
              "4         0         0        0          0            10   \n",
              "\n",
              "   property_type_Bunglow  property_type_Condo  \n",
              "0                      0                    1  \n",
              "1                      0                    1  \n",
              "2                      0                    1  \n",
              "3                      0                    1  \n",
              "4                      0                    1  "
            ],
            "text/html": [
              "\n",
              "  <div id=\"df-5252dd3d-2ce3-4158-b52b-eb6a6d321474\" class=\"colab-df-container\">\n",
              "    <div>\n",
              "<style scoped>\n",
              "    .dataframe tbody tr th:only-of-type {\n",
              "        vertical-align: middle;\n",
              "    }\n",
              "\n",
              "    .dataframe tbody tr th {\n",
              "        vertical-align: top;\n",
              "    }\n",
              "\n",
              "    .dataframe thead th {\n",
              "        text-align: right;\n",
              "    }\n",
              "</style>\n",
              "<table border=\"1\" class=\"dataframe\">\n",
              "  <thead>\n",
              "    <tr style=\"text-align: right;\">\n",
              "      <th></th>\n",
              "      <th>price</th>\n",
              "      <th>year_sold</th>\n",
              "      <th>property_tax</th>\n",
              "      <th>insurance</th>\n",
              "      <th>beds</th>\n",
              "      <th>baths</th>\n",
              "      <th>sqft</th>\n",
              "      <th>year_built</th>\n",
              "      <th>lot_size</th>\n",
              "      <th>basement</th>\n",
              "      <th>popular</th>\n",
              "      <th>recession</th>\n",
              "      <th>property_age</th>\n",
              "      <th>property_type_Bunglow</th>\n",
              "      <th>property_type_Condo</th>\n",
              "    </tr>\n",
              "  </thead>\n",
              "  <tbody>\n",
              "    <tr>\n",
              "      <th>0</th>\n",
              "      <td>295850</td>\n",
              "      <td>2013</td>\n",
              "      <td>234</td>\n",
              "      <td>81</td>\n",
              "      <td>1</td>\n",
              "      <td>1</td>\n",
              "      <td>584</td>\n",
              "      <td>2013</td>\n",
              "      <td>0</td>\n",
              "      <td>0</td>\n",
              "      <td>0</td>\n",
              "      <td>1</td>\n",
              "      <td>0</td>\n",
              "      <td>0</td>\n",
              "      <td>1</td>\n",
              "    </tr>\n",
              "    <tr>\n",
              "      <th>1</th>\n",
              "      <td>216500</td>\n",
              "      <td>2006</td>\n",
              "      <td>169</td>\n",
              "      <td>51</td>\n",
              "      <td>1</td>\n",
              "      <td>1</td>\n",
              "      <td>612</td>\n",
              "      <td>1965</td>\n",
              "      <td>0</td>\n",
              "      <td>1</td>\n",
              "      <td>0</td>\n",
              "      <td>0</td>\n",
              "      <td>41</td>\n",
              "      <td>0</td>\n",
              "      <td>1</td>\n",
              "    </tr>\n",
              "    <tr>\n",
              "      <th>2</th>\n",
              "      <td>279900</td>\n",
              "      <td>2012</td>\n",
              "      <td>216</td>\n",
              "      <td>74</td>\n",
              "      <td>1</td>\n",
              "      <td>1</td>\n",
              "      <td>615</td>\n",
              "      <td>1963</td>\n",
              "      <td>0</td>\n",
              "      <td>0</td>\n",
              "      <td>0</td>\n",
              "      <td>1</td>\n",
              "      <td>49</td>\n",
              "      <td>0</td>\n",
              "      <td>1</td>\n",
              "    </tr>\n",
              "    <tr>\n",
              "      <th>3</th>\n",
              "      <td>379900</td>\n",
              "      <td>2005</td>\n",
              "      <td>265</td>\n",
              "      <td>92</td>\n",
              "      <td>1</td>\n",
              "      <td>1</td>\n",
              "      <td>618</td>\n",
              "      <td>2000</td>\n",
              "      <td>33541</td>\n",
              "      <td>0</td>\n",
              "      <td>0</td>\n",
              "      <td>0</td>\n",
              "      <td>5</td>\n",
              "      <td>0</td>\n",
              "      <td>1</td>\n",
              "    </tr>\n",
              "    <tr>\n",
              "      <th>4</th>\n",
              "      <td>340000</td>\n",
              "      <td>2002</td>\n",
              "      <td>88</td>\n",
              "      <td>30</td>\n",
              "      <td>1</td>\n",
              "      <td>1</td>\n",
              "      <td>634</td>\n",
              "      <td>1992</td>\n",
              "      <td>0</td>\n",
              "      <td>0</td>\n",
              "      <td>0</td>\n",
              "      <td>0</td>\n",
              "      <td>10</td>\n",
              "      <td>0</td>\n",
              "      <td>1</td>\n",
              "    </tr>\n",
              "  </tbody>\n",
              "</table>\n",
              "</div>\n",
              "    <div class=\"colab-df-buttons\">\n",
              "\n",
              "  <div class=\"colab-df-container\">\n",
              "    <button class=\"colab-df-convert\" onclick=\"convertToInteractive('df-5252dd3d-2ce3-4158-b52b-eb6a6d321474')\"\n",
              "            title=\"Convert this dataframe to an interactive table.\"\n",
              "            style=\"display:none;\">\n",
              "\n",
              "  <svg xmlns=\"http://www.w3.org/2000/svg\" height=\"24px\" viewBox=\"0 -960 960 960\">\n",
              "    <path d=\"M120-120v-720h720v720H120Zm60-500h600v-160H180v160Zm220 220h160v-160H400v160Zm0 220h160v-160H400v160ZM180-400h160v-160H180v160Zm440 0h160v-160H620v160ZM180-180h160v-160H180v160Zm440 0h160v-160H620v160Z\"/>\n",
              "  </svg>\n",
              "    </button>\n",
              "\n",
              "  <style>\n",
              "    .colab-df-container {\n",
              "      display:flex;\n",
              "      gap: 12px;\n",
              "    }\n",
              "\n",
              "    .colab-df-convert {\n",
              "      background-color: #E8F0FE;\n",
              "      border: none;\n",
              "      border-radius: 50%;\n",
              "      cursor: pointer;\n",
              "      display: none;\n",
              "      fill: #1967D2;\n",
              "      height: 32px;\n",
              "      padding: 0 0 0 0;\n",
              "      width: 32px;\n",
              "    }\n",
              "\n",
              "    .colab-df-convert:hover {\n",
              "      background-color: #E2EBFA;\n",
              "      box-shadow: 0px 1px 2px rgba(60, 64, 67, 0.3), 0px 1px 3px 1px rgba(60, 64, 67, 0.15);\n",
              "      fill: #174EA6;\n",
              "    }\n",
              "\n",
              "    .colab-df-buttons div {\n",
              "      margin-bottom: 4px;\n",
              "    }\n",
              "\n",
              "    [theme=dark] .colab-df-convert {\n",
              "      background-color: #3B4455;\n",
              "      fill: #D2E3FC;\n",
              "    }\n",
              "\n",
              "    [theme=dark] .colab-df-convert:hover {\n",
              "      background-color: #434B5C;\n",
              "      box-shadow: 0px 1px 3px 1px rgba(0, 0, 0, 0.15);\n",
              "      filter: drop-shadow(0px 1px 2px rgba(0, 0, 0, 0.3));\n",
              "      fill: #FFFFFF;\n",
              "    }\n",
              "  </style>\n",
              "\n",
              "    <script>\n",
              "      const buttonEl =\n",
              "        document.querySelector('#df-5252dd3d-2ce3-4158-b52b-eb6a6d321474 button.colab-df-convert');\n",
              "      buttonEl.style.display =\n",
              "        google.colab.kernel.accessAllowed ? 'block' : 'none';\n",
              "\n",
              "      async function convertToInteractive(key) {\n",
              "        const element = document.querySelector('#df-5252dd3d-2ce3-4158-b52b-eb6a6d321474');\n",
              "        const dataTable =\n",
              "          await google.colab.kernel.invokeFunction('convertToInteractive',\n",
              "                                                    [key], {});\n",
              "        if (!dataTable) return;\n",
              "\n",
              "        const docLinkHtml = 'Like what you see? Visit the ' +\n",
              "          '<a target=\"_blank\" href=https://colab.research.google.com/notebooks/data_table.ipynb>data table notebook</a>'\n",
              "          + ' to learn more about interactive tables.';\n",
              "        element.innerHTML = '';\n",
              "        dataTable['output_type'] = 'display_data';\n",
              "        await google.colab.output.renderOutput(dataTable, element);\n",
              "        const docLink = document.createElement('div');\n",
              "        docLink.innerHTML = docLinkHtml;\n",
              "        element.appendChild(docLink);\n",
              "      }\n",
              "    </script>\n",
              "  </div>\n",
              "\n",
              "\n",
              "<div id=\"df-ffeedb1a-7e56-4eef-b745-f76a2c878b24\">\n",
              "  <button class=\"colab-df-quickchart\" onclick=\"quickchart('df-ffeedb1a-7e56-4eef-b745-f76a2c878b24')\"\n",
              "            title=\"Suggest charts\"\n",
              "            style=\"display:none;\">\n",
              "\n",
              "<svg xmlns=\"http://www.w3.org/2000/svg\" height=\"24px\"viewBox=\"0 0 24 24\"\n",
              "     width=\"24px\">\n",
              "    <g>\n",
              "        <path d=\"M19 3H5c-1.1 0-2 .9-2 2v14c0 1.1.9 2 2 2h14c1.1 0 2-.9 2-2V5c0-1.1-.9-2-2-2zM9 17H7v-7h2v7zm4 0h-2V7h2v10zm4 0h-2v-4h2v4z\"/>\n",
              "    </g>\n",
              "</svg>\n",
              "  </button>\n",
              "\n",
              "<style>\n",
              "  .colab-df-quickchart {\n",
              "      --bg-color: #E8F0FE;\n",
              "      --fill-color: #1967D2;\n",
              "      --hover-bg-color: #E2EBFA;\n",
              "      --hover-fill-color: #174EA6;\n",
              "      --disabled-fill-color: #AAA;\n",
              "      --disabled-bg-color: #DDD;\n",
              "  }\n",
              "\n",
              "  [theme=dark] .colab-df-quickchart {\n",
              "      --bg-color: #3B4455;\n",
              "      --fill-color: #D2E3FC;\n",
              "      --hover-bg-color: #434B5C;\n",
              "      --hover-fill-color: #FFFFFF;\n",
              "      --disabled-bg-color: #3B4455;\n",
              "      --disabled-fill-color: #666;\n",
              "  }\n",
              "\n",
              "  .colab-df-quickchart {\n",
              "    background-color: var(--bg-color);\n",
              "    border: none;\n",
              "    border-radius: 50%;\n",
              "    cursor: pointer;\n",
              "    display: none;\n",
              "    fill: var(--fill-color);\n",
              "    height: 32px;\n",
              "    padding: 0;\n",
              "    width: 32px;\n",
              "  }\n",
              "\n",
              "  .colab-df-quickchart:hover {\n",
              "    background-color: var(--hover-bg-color);\n",
              "    box-shadow: 0 1px 2px rgba(60, 64, 67, 0.3), 0 1px 3px 1px rgba(60, 64, 67, 0.15);\n",
              "    fill: var(--button-hover-fill-color);\n",
              "  }\n",
              "\n",
              "  .colab-df-quickchart-complete:disabled,\n",
              "  .colab-df-quickchart-complete:disabled:hover {\n",
              "    background-color: var(--disabled-bg-color);\n",
              "    fill: var(--disabled-fill-color);\n",
              "    box-shadow: none;\n",
              "  }\n",
              "\n",
              "  .colab-df-spinner {\n",
              "    border: 2px solid var(--fill-color);\n",
              "    border-color: transparent;\n",
              "    border-bottom-color: var(--fill-color);\n",
              "    animation:\n",
              "      spin 1s steps(1) infinite;\n",
              "  }\n",
              "\n",
              "  @keyframes spin {\n",
              "    0% {\n",
              "      border-color: transparent;\n",
              "      border-bottom-color: var(--fill-color);\n",
              "      border-left-color: var(--fill-color);\n",
              "    }\n",
              "    20% {\n",
              "      border-color: transparent;\n",
              "      border-left-color: var(--fill-color);\n",
              "      border-top-color: var(--fill-color);\n",
              "    }\n",
              "    30% {\n",
              "      border-color: transparent;\n",
              "      border-left-color: var(--fill-color);\n",
              "      border-top-color: var(--fill-color);\n",
              "      border-right-color: var(--fill-color);\n",
              "    }\n",
              "    40% {\n",
              "      border-color: transparent;\n",
              "      border-right-color: var(--fill-color);\n",
              "      border-top-color: var(--fill-color);\n",
              "    }\n",
              "    60% {\n",
              "      border-color: transparent;\n",
              "      border-right-color: var(--fill-color);\n",
              "    }\n",
              "    80% {\n",
              "      border-color: transparent;\n",
              "      border-right-color: var(--fill-color);\n",
              "      border-bottom-color: var(--fill-color);\n",
              "    }\n",
              "    90% {\n",
              "      border-color: transparent;\n",
              "      border-bottom-color: var(--fill-color);\n",
              "    }\n",
              "  }\n",
              "</style>\n",
              "\n",
              "  <script>\n",
              "    async function quickchart(key) {\n",
              "      const quickchartButtonEl =\n",
              "        document.querySelector('#' + key + ' button');\n",
              "      quickchartButtonEl.disabled = true;  // To prevent multiple clicks.\n",
              "      quickchartButtonEl.classList.add('colab-df-spinner');\n",
              "      try {\n",
              "        const charts = await google.colab.kernel.invokeFunction(\n",
              "            'suggestCharts', [key], {});\n",
              "      } catch (error) {\n",
              "        console.error('Error during call to suggestCharts:', error);\n",
              "      }\n",
              "      quickchartButtonEl.classList.remove('colab-df-spinner');\n",
              "      quickchartButtonEl.classList.add('colab-df-quickchart-complete');\n",
              "    }\n",
              "    (() => {\n",
              "      let quickchartButtonEl =\n",
              "        document.querySelector('#df-ffeedb1a-7e56-4eef-b745-f76a2c878b24 button');\n",
              "      quickchartButtonEl.style.display =\n",
              "        google.colab.kernel.accessAllowed ? 'block' : 'none';\n",
              "    })();\n",
              "  </script>\n",
              "</div>\n",
              "\n",
              "    </div>\n",
              "  </div>\n"
            ],
            "application/vnd.google.colaboratory.intrinsic+json": {
              "type": "dataframe",
              "variable_name": "df",
              "summary": "{\n  \"name\": \"df\",\n  \"rows\": 1863,\n  \"fields\": [\n    {\n      \"column\": \"price\",\n      \"properties\": {\n        \"dtype\": \"number\",\n        \"std\": 151764,\n        \"min\": 200000,\n        \"max\": 800000,\n        \"num_unique_values\": 884,\n        \"samples\": [\n          220000,\n          462790,\n          570910\n        ],\n        \"semantic_type\": \"\",\n        \"description\": \"\"\n      }\n    },\n    {\n      \"column\": \"year_sold\",\n      \"properties\": {\n        \"dtype\": \"number\",\n        \"std\": 5,\n        \"min\": 1993,\n        \"max\": 2016,\n        \"num_unique_values\": 24,\n        \"samples\": [\n          2015,\n          1994,\n          2013\n        ],\n        \"semantic_type\": \"\",\n        \"description\": \"\"\n      }\n    },\n    {\n      \"column\": \"property_tax\",\n      \"properties\": {\n        \"dtype\": \"number\",\n        \"std\": 222,\n        \"min\": 88,\n        \"max\": 4508,\n        \"num_unique_values\": 546,\n        \"samples\": [\n          615,\n          240,\n          567\n        ],\n        \"semantic_type\": \"\",\n        \"description\": \"\"\n      }\n    },\n    {\n      \"column\": \"insurance\",\n      \"properties\": {\n        \"dtype\": \"number\",\n        \"std\": 70,\n        \"min\": 30,\n        \"max\": 1374,\n        \"num_unique_values\": 245,\n        \"samples\": [\n          69,\n          61,\n          222\n        ],\n        \"semantic_type\": \"\",\n        \"description\": \"\"\n      }\n    },\n    {\n      \"column\": \"beds\",\n      \"properties\": {\n        \"dtype\": \"number\",\n        \"std\": 1,\n        \"min\": 1,\n        \"max\": 5,\n        \"num_unique_values\": 5,\n        \"samples\": [\n          2,\n          5,\n          3\n        ],\n        \"semantic_type\": \"\",\n        \"description\": \"\"\n      }\n    },\n    {\n      \"column\": \"baths\",\n      \"properties\": {\n        \"dtype\": \"number\",\n        \"std\": 0,\n        \"min\": 1,\n        \"max\": 6,\n        \"num_unique_values\": 6,\n        \"samples\": [\n          1,\n          2,\n          6\n        ],\n        \"semantic_type\": \"\",\n        \"description\": \"\"\n      }\n    },\n    {\n      \"column\": \"sqft\",\n      \"properties\": {\n        \"dtype\": \"number\",\n        \"std\": 1298,\n        \"min\": 500,\n        \"max\": 7842,\n        \"num_unique_values\": 1293,\n        \"samples\": [\n          1475,\n          2376,\n          2148\n        ],\n        \"semantic_type\": \"\",\n        \"description\": \"\"\n      }\n    },\n    {\n      \"column\": \"year_built\",\n      \"properties\": {\n        \"dtype\": \"number\",\n        \"std\": 20,\n        \"min\": 1880,\n        \"max\": 2014,\n        \"num_unique_values\": 93,\n        \"samples\": [\n          1949,\n          1991,\n          1981\n        ],\n        \"semantic_type\": \"\",\n        \"description\": \"\"\n      }\n    },\n    {\n      \"column\": \"lot_size\",\n      \"properties\": {\n        \"dtype\": \"number\",\n        \"std\": 35040,\n        \"min\": 0,\n        \"max\": 436471,\n        \"num_unique_values\": 758,\n        \"samples\": [\n          4774,\n          9999,\n          1392\n        ],\n        \"semantic_type\": \"\",\n        \"description\": \"\"\n      }\n    },\n    {\n      \"column\": \"basement\",\n      \"properties\": {\n        \"dtype\": \"number\",\n        \"std\": 0,\n        \"min\": 0,\n        \"max\": 1,\n        \"num_unique_values\": 2,\n        \"samples\": [\n          1,\n          0\n        ],\n        \"semantic_type\": \"\",\n        \"description\": \"\"\n      }\n    },\n    {\n      \"column\": \"popular\",\n      \"properties\": {\n        \"dtype\": \"number\",\n        \"std\": 0,\n        \"min\": 0,\n        \"max\": 1,\n        \"num_unique_values\": 2,\n        \"samples\": [\n          1,\n          0\n        ],\n        \"semantic_type\": \"\",\n        \"description\": \"\"\n      }\n    },\n    {\n      \"column\": \"recession\",\n      \"properties\": {\n        \"dtype\": \"number\",\n        \"std\": 0,\n        \"min\": 0,\n        \"max\": 1,\n        \"num_unique_values\": 2,\n        \"samples\": [\n          0,\n          1\n        ],\n        \"semantic_type\": \"\",\n        \"description\": \"\"\n      }\n    },\n    {\n      \"column\": \"property_age\",\n      \"properties\": {\n        \"dtype\": \"number\",\n        \"std\": 21,\n        \"min\": 0,\n        \"max\": 114,\n        \"num_unique_values\": 92,\n        \"samples\": [\n          12,\n          70\n        ],\n        \"semantic_type\": \"\",\n        \"description\": \"\"\n      }\n    },\n    {\n      \"column\": \"property_type_Bunglow\",\n      \"properties\": {\n        \"dtype\": \"number\",\n        \"std\": 0,\n        \"min\": 0,\n        \"max\": 1,\n        \"num_unique_values\": 2,\n        \"samples\": [\n          1,\n          0\n        ],\n        \"semantic_type\": \"\",\n        \"description\": \"\"\n      }\n    },\n    {\n      \"column\": \"property_type_Condo\",\n      \"properties\": {\n        \"dtype\": \"number\",\n        \"std\": 0,\n        \"min\": 0,\n        \"max\": 1,\n        \"num_unique_values\": 2,\n        \"samples\": [\n          0,\n          1\n        ],\n        \"semantic_type\": \"\",\n        \"description\": \"\"\n      }\n    }\n  ]\n}"
            }
          },
          "metadata": {},
          "execution_count": 2
        }
      ],
      "source": [
        "# next load the data\n",
        "df = pd.read_csv('final.csv')\n",
        "df.head()"
      ]
    },
    {
      "cell_type": "code",
      "source": [
        "df.corr()"
      ],
      "metadata": {
        "colab": {
          "base_uri": "https://localhost:8080/",
          "height": 539
        },
        "id": "OkIVTWflKOK-",
        "outputId": "4027dcfd-a6fc-4471-b453-b9780da13de3"
      },
      "execution_count": 26,
      "outputs": [
        {
          "output_type": "execute_result",
          "data": {
            "text/plain": [
              "                          price  year_sold  property_tax  insurance      beds  \\\n",
              "price                  1.000000   0.110680      0.558266   0.554583  0.387682   \n",
              "year_sold              0.110680   1.000000     -0.265243  -0.261875 -0.174329   \n",
              "property_tax           0.558266  -0.265243      1.000000   0.983430  0.544898   \n",
              "insurance              0.554583  -0.261875      0.983430   1.000000  0.479399   \n",
              "beds                   0.387682  -0.174329      0.544898   0.479399  1.000000   \n",
              "baths                  0.398615  -0.132903      0.507861   0.454178  0.640168   \n",
              "sqft                   0.486858  -0.241073      0.640393   0.569497  0.688634   \n",
              "year_built             0.034159  -0.041976     -0.080934  -0.145710 -0.028209   \n",
              "lot_size               0.185244  -0.082122      0.218076   0.188731  0.228757   \n",
              "basement               0.109144  -0.067985      0.182701   0.135135  0.413082   \n",
              "popular               -0.148108   0.068862     -0.208959  -0.173812 -0.430083   \n",
              "recession             -0.022207   0.509384     -0.121395  -0.120809 -0.070744   \n",
              "property_age          -0.005428   0.287097      0.012119   0.075054 -0.015989   \n",
              "property_type_Bunglow  0.322641  -0.136561      0.449372   0.410135  0.658729   \n",
              "property_type_Condo   -0.322641   0.136561     -0.449372  -0.410135 -0.658729   \n",
              "\n",
              "                          baths      sqft  year_built  lot_size  basement  \\\n",
              "price                  0.398615  0.486858    0.034159  0.185244  0.109144   \n",
              "year_sold             -0.132903 -0.241073   -0.041976 -0.082122 -0.067985   \n",
              "property_tax           0.507861  0.640393   -0.080934  0.218076  0.182701   \n",
              "insurance              0.454178  0.569497   -0.145710  0.188731  0.135135   \n",
              "beds                   0.640168  0.688634   -0.028209  0.228757  0.413082   \n",
              "baths                  1.000000  0.669070    0.188456  0.186494  0.344052   \n",
              "sqft                   0.669070  1.000000    0.234882  0.325832  0.270175   \n",
              "year_built             0.188456  0.234882    1.000000  0.022900  0.001779   \n",
              "lot_size               0.186494  0.325832    0.022900  1.000000  0.061934   \n",
              "basement               0.344052  0.270175    0.001779  0.061934  1.000000   \n",
              "popular               -0.197480 -0.270799    0.105150 -0.092659 -0.198936   \n",
              "recession             -0.057730 -0.078903    0.029828  0.006077 -0.047486   \n",
              "property_age          -0.213489 -0.284702   -0.969108 -0.042227 -0.018488   \n",
              "property_type_Bunglow  0.339109  0.525699   -0.269514  0.250534  0.253299   \n",
              "property_type_Condo   -0.339109 -0.525699    0.269514 -0.250534 -0.253299   \n",
              "\n",
              "                        popular  recession  property_age  \\\n",
              "price                 -0.148108  -0.022207     -0.005428   \n",
              "year_sold              0.068862   0.509384      0.287097   \n",
              "property_tax          -0.208959  -0.121395      0.012119   \n",
              "insurance             -0.173812  -0.120809      0.075054   \n",
              "beds                  -0.430083  -0.070744     -0.015989   \n",
              "baths                 -0.197480  -0.057730     -0.213489   \n",
              "sqft                  -0.270799  -0.078903     -0.284702   \n",
              "year_built             0.105150   0.029828     -0.969108   \n",
              "lot_size              -0.092659   0.006077     -0.042227   \n",
              "basement              -0.198936  -0.047486     -0.018488   \n",
              "popular                1.000000   0.083255     -0.083813   \n",
              "recession              0.083255   1.000000      0.097146   \n",
              "property_age          -0.083813   0.097146      1.000000   \n",
              "property_type_Bunglow -0.303769  -0.053224      0.224685   \n",
              "property_type_Condo    0.303769   0.053224     -0.224685   \n",
              "\n",
              "                       property_type_Bunglow  property_type_Condo  \n",
              "price                               0.322641            -0.322641  \n",
              "year_sold                          -0.136561             0.136561  \n",
              "property_tax                        0.449372            -0.449372  \n",
              "insurance                           0.410135            -0.410135  \n",
              "beds                                0.658729            -0.658729  \n",
              "baths                               0.339109            -0.339109  \n",
              "sqft                                0.525699            -0.525699  \n",
              "year_built                         -0.269514             0.269514  \n",
              "lot_size                            0.250534            -0.250534  \n",
              "basement                            0.253299            -0.253299  \n",
              "popular                            -0.303769             0.303769  \n",
              "recession                          -0.053224             0.053224  \n",
              "property_age                        0.224685            -0.224685  \n",
              "property_type_Bunglow               1.000000            -1.000000  \n",
              "property_type_Condo                -1.000000             1.000000  "
            ],
            "text/html": [
              "\n",
              "  <div id=\"df-fff095c6-67ac-4ecb-b06b-f38ee4e9a143\" class=\"colab-df-container\">\n",
              "    <div>\n",
              "<style scoped>\n",
              "    .dataframe tbody tr th:only-of-type {\n",
              "        vertical-align: middle;\n",
              "    }\n",
              "\n",
              "    .dataframe tbody tr th {\n",
              "        vertical-align: top;\n",
              "    }\n",
              "\n",
              "    .dataframe thead th {\n",
              "        text-align: right;\n",
              "    }\n",
              "</style>\n",
              "<table border=\"1\" class=\"dataframe\">\n",
              "  <thead>\n",
              "    <tr style=\"text-align: right;\">\n",
              "      <th></th>\n",
              "      <th>price</th>\n",
              "      <th>year_sold</th>\n",
              "      <th>property_tax</th>\n",
              "      <th>insurance</th>\n",
              "      <th>beds</th>\n",
              "      <th>baths</th>\n",
              "      <th>sqft</th>\n",
              "      <th>year_built</th>\n",
              "      <th>lot_size</th>\n",
              "      <th>basement</th>\n",
              "      <th>popular</th>\n",
              "      <th>recession</th>\n",
              "      <th>property_age</th>\n",
              "      <th>property_type_Bunglow</th>\n",
              "      <th>property_type_Condo</th>\n",
              "    </tr>\n",
              "  </thead>\n",
              "  <tbody>\n",
              "    <tr>\n",
              "      <th>price</th>\n",
              "      <td>1.000000</td>\n",
              "      <td>0.110680</td>\n",
              "      <td>0.558266</td>\n",
              "      <td>0.554583</td>\n",
              "      <td>0.387682</td>\n",
              "      <td>0.398615</td>\n",
              "      <td>0.486858</td>\n",
              "      <td>0.034159</td>\n",
              "      <td>0.185244</td>\n",
              "      <td>0.109144</td>\n",
              "      <td>-0.148108</td>\n",
              "      <td>-0.022207</td>\n",
              "      <td>-0.005428</td>\n",
              "      <td>0.322641</td>\n",
              "      <td>-0.322641</td>\n",
              "    </tr>\n",
              "    <tr>\n",
              "      <th>year_sold</th>\n",
              "      <td>0.110680</td>\n",
              "      <td>1.000000</td>\n",
              "      <td>-0.265243</td>\n",
              "      <td>-0.261875</td>\n",
              "      <td>-0.174329</td>\n",
              "      <td>-0.132903</td>\n",
              "      <td>-0.241073</td>\n",
              "      <td>-0.041976</td>\n",
              "      <td>-0.082122</td>\n",
              "      <td>-0.067985</td>\n",
              "      <td>0.068862</td>\n",
              "      <td>0.509384</td>\n",
              "      <td>0.287097</td>\n",
              "      <td>-0.136561</td>\n",
              "      <td>0.136561</td>\n",
              "    </tr>\n",
              "    <tr>\n",
              "      <th>property_tax</th>\n",
              "      <td>0.558266</td>\n",
              "      <td>-0.265243</td>\n",
              "      <td>1.000000</td>\n",
              "      <td>0.983430</td>\n",
              "      <td>0.544898</td>\n",
              "      <td>0.507861</td>\n",
              "      <td>0.640393</td>\n",
              "      <td>-0.080934</td>\n",
              "      <td>0.218076</td>\n",
              "      <td>0.182701</td>\n",
              "      <td>-0.208959</td>\n",
              "      <td>-0.121395</td>\n",
              "      <td>0.012119</td>\n",
              "      <td>0.449372</td>\n",
              "      <td>-0.449372</td>\n",
              "    </tr>\n",
              "    <tr>\n",
              "      <th>insurance</th>\n",
              "      <td>0.554583</td>\n",
              "      <td>-0.261875</td>\n",
              "      <td>0.983430</td>\n",
              "      <td>1.000000</td>\n",
              "      <td>0.479399</td>\n",
              "      <td>0.454178</td>\n",
              "      <td>0.569497</td>\n",
              "      <td>-0.145710</td>\n",
              "      <td>0.188731</td>\n",
              "      <td>0.135135</td>\n",
              "      <td>-0.173812</td>\n",
              "      <td>-0.120809</td>\n",
              "      <td>0.075054</td>\n",
              "      <td>0.410135</td>\n",
              "      <td>-0.410135</td>\n",
              "    </tr>\n",
              "    <tr>\n",
              "      <th>beds</th>\n",
              "      <td>0.387682</td>\n",
              "      <td>-0.174329</td>\n",
              "      <td>0.544898</td>\n",
              "      <td>0.479399</td>\n",
              "      <td>1.000000</td>\n",
              "      <td>0.640168</td>\n",
              "      <td>0.688634</td>\n",
              "      <td>-0.028209</td>\n",
              "      <td>0.228757</td>\n",
              "      <td>0.413082</td>\n",
              "      <td>-0.430083</td>\n",
              "      <td>-0.070744</td>\n",
              "      <td>-0.015989</td>\n",
              "      <td>0.658729</td>\n",
              "      <td>-0.658729</td>\n",
              "    </tr>\n",
              "    <tr>\n",
              "      <th>baths</th>\n",
              "      <td>0.398615</td>\n",
              "      <td>-0.132903</td>\n",
              "      <td>0.507861</td>\n",
              "      <td>0.454178</td>\n",
              "      <td>0.640168</td>\n",
              "      <td>1.000000</td>\n",
              "      <td>0.669070</td>\n",
              "      <td>0.188456</td>\n",
              "      <td>0.186494</td>\n",
              "      <td>0.344052</td>\n",
              "      <td>-0.197480</td>\n",
              "      <td>-0.057730</td>\n",
              "      <td>-0.213489</td>\n",
              "      <td>0.339109</td>\n",
              "      <td>-0.339109</td>\n",
              "    </tr>\n",
              "    <tr>\n",
              "      <th>sqft</th>\n",
              "      <td>0.486858</td>\n",
              "      <td>-0.241073</td>\n",
              "      <td>0.640393</td>\n",
              "      <td>0.569497</td>\n",
              "      <td>0.688634</td>\n",
              "      <td>0.669070</td>\n",
              "      <td>1.000000</td>\n",
              "      <td>0.234882</td>\n",
              "      <td>0.325832</td>\n",
              "      <td>0.270175</td>\n",
              "      <td>-0.270799</td>\n",
              "      <td>-0.078903</td>\n",
              "      <td>-0.284702</td>\n",
              "      <td>0.525699</td>\n",
              "      <td>-0.525699</td>\n",
              "    </tr>\n",
              "    <tr>\n",
              "      <th>year_built</th>\n",
              "      <td>0.034159</td>\n",
              "      <td>-0.041976</td>\n",
              "      <td>-0.080934</td>\n",
              "      <td>-0.145710</td>\n",
              "      <td>-0.028209</td>\n",
              "      <td>0.188456</td>\n",
              "      <td>0.234882</td>\n",
              "      <td>1.000000</td>\n",
              "      <td>0.022900</td>\n",
              "      <td>0.001779</td>\n",
              "      <td>0.105150</td>\n",
              "      <td>0.029828</td>\n",
              "      <td>-0.969108</td>\n",
              "      <td>-0.269514</td>\n",
              "      <td>0.269514</td>\n",
              "    </tr>\n",
              "    <tr>\n",
              "      <th>lot_size</th>\n",
              "      <td>0.185244</td>\n",
              "      <td>-0.082122</td>\n",
              "      <td>0.218076</td>\n",
              "      <td>0.188731</td>\n",
              "      <td>0.228757</td>\n",
              "      <td>0.186494</td>\n",
              "      <td>0.325832</td>\n",
              "      <td>0.022900</td>\n",
              "      <td>1.000000</td>\n",
              "      <td>0.061934</td>\n",
              "      <td>-0.092659</td>\n",
              "      <td>0.006077</td>\n",
              "      <td>-0.042227</td>\n",
              "      <td>0.250534</td>\n",
              "      <td>-0.250534</td>\n",
              "    </tr>\n",
              "    <tr>\n",
              "      <th>basement</th>\n",
              "      <td>0.109144</td>\n",
              "      <td>-0.067985</td>\n",
              "      <td>0.182701</td>\n",
              "      <td>0.135135</td>\n",
              "      <td>0.413082</td>\n",
              "      <td>0.344052</td>\n",
              "      <td>0.270175</td>\n",
              "      <td>0.001779</td>\n",
              "      <td>0.061934</td>\n",
              "      <td>1.000000</td>\n",
              "      <td>-0.198936</td>\n",
              "      <td>-0.047486</td>\n",
              "      <td>-0.018488</td>\n",
              "      <td>0.253299</td>\n",
              "      <td>-0.253299</td>\n",
              "    </tr>\n",
              "    <tr>\n",
              "      <th>popular</th>\n",
              "      <td>-0.148108</td>\n",
              "      <td>0.068862</td>\n",
              "      <td>-0.208959</td>\n",
              "      <td>-0.173812</td>\n",
              "      <td>-0.430083</td>\n",
              "      <td>-0.197480</td>\n",
              "      <td>-0.270799</td>\n",
              "      <td>0.105150</td>\n",
              "      <td>-0.092659</td>\n",
              "      <td>-0.198936</td>\n",
              "      <td>1.000000</td>\n",
              "      <td>0.083255</td>\n",
              "      <td>-0.083813</td>\n",
              "      <td>-0.303769</td>\n",
              "      <td>0.303769</td>\n",
              "    </tr>\n",
              "    <tr>\n",
              "      <th>recession</th>\n",
              "      <td>-0.022207</td>\n",
              "      <td>0.509384</td>\n",
              "      <td>-0.121395</td>\n",
              "      <td>-0.120809</td>\n",
              "      <td>-0.070744</td>\n",
              "      <td>-0.057730</td>\n",
              "      <td>-0.078903</td>\n",
              "      <td>0.029828</td>\n",
              "      <td>0.006077</td>\n",
              "      <td>-0.047486</td>\n",
              "      <td>0.083255</td>\n",
              "      <td>1.000000</td>\n",
              "      <td>0.097146</td>\n",
              "      <td>-0.053224</td>\n",
              "      <td>0.053224</td>\n",
              "    </tr>\n",
              "    <tr>\n",
              "      <th>property_age</th>\n",
              "      <td>-0.005428</td>\n",
              "      <td>0.287097</td>\n",
              "      <td>0.012119</td>\n",
              "      <td>0.075054</td>\n",
              "      <td>-0.015989</td>\n",
              "      <td>-0.213489</td>\n",
              "      <td>-0.284702</td>\n",
              "      <td>-0.969108</td>\n",
              "      <td>-0.042227</td>\n",
              "      <td>-0.018488</td>\n",
              "      <td>-0.083813</td>\n",
              "      <td>0.097146</td>\n",
              "      <td>1.000000</td>\n",
              "      <td>0.224685</td>\n",
              "      <td>-0.224685</td>\n",
              "    </tr>\n",
              "    <tr>\n",
              "      <th>property_type_Bunglow</th>\n",
              "      <td>0.322641</td>\n",
              "      <td>-0.136561</td>\n",
              "      <td>0.449372</td>\n",
              "      <td>0.410135</td>\n",
              "      <td>0.658729</td>\n",
              "      <td>0.339109</td>\n",
              "      <td>0.525699</td>\n",
              "      <td>-0.269514</td>\n",
              "      <td>0.250534</td>\n",
              "      <td>0.253299</td>\n",
              "      <td>-0.303769</td>\n",
              "      <td>-0.053224</td>\n",
              "      <td>0.224685</td>\n",
              "      <td>1.000000</td>\n",
              "      <td>-1.000000</td>\n",
              "    </tr>\n",
              "    <tr>\n",
              "      <th>property_type_Condo</th>\n",
              "      <td>-0.322641</td>\n",
              "      <td>0.136561</td>\n",
              "      <td>-0.449372</td>\n",
              "      <td>-0.410135</td>\n",
              "      <td>-0.658729</td>\n",
              "      <td>-0.339109</td>\n",
              "      <td>-0.525699</td>\n",
              "      <td>0.269514</td>\n",
              "      <td>-0.250534</td>\n",
              "      <td>-0.253299</td>\n",
              "      <td>0.303769</td>\n",
              "      <td>0.053224</td>\n",
              "      <td>-0.224685</td>\n",
              "      <td>-1.000000</td>\n",
              "      <td>1.000000</td>\n",
              "    </tr>\n",
              "  </tbody>\n",
              "</table>\n",
              "</div>\n",
              "    <div class=\"colab-df-buttons\">\n",
              "\n",
              "  <div class=\"colab-df-container\">\n",
              "    <button class=\"colab-df-convert\" onclick=\"convertToInteractive('df-fff095c6-67ac-4ecb-b06b-f38ee4e9a143')\"\n",
              "            title=\"Convert this dataframe to an interactive table.\"\n",
              "            style=\"display:none;\">\n",
              "\n",
              "  <svg xmlns=\"http://www.w3.org/2000/svg\" height=\"24px\" viewBox=\"0 -960 960 960\">\n",
              "    <path d=\"M120-120v-720h720v720H120Zm60-500h600v-160H180v160Zm220 220h160v-160H400v160Zm0 220h160v-160H400v160ZM180-400h160v-160H180v160Zm440 0h160v-160H620v160ZM180-180h160v-160H180v160Zm440 0h160v-160H620v160Z\"/>\n",
              "  </svg>\n",
              "    </button>\n",
              "\n",
              "  <style>\n",
              "    .colab-df-container {\n",
              "      display:flex;\n",
              "      gap: 12px;\n",
              "    }\n",
              "\n",
              "    .colab-df-convert {\n",
              "      background-color: #E8F0FE;\n",
              "      border: none;\n",
              "      border-radius: 50%;\n",
              "      cursor: pointer;\n",
              "      display: none;\n",
              "      fill: #1967D2;\n",
              "      height: 32px;\n",
              "      padding: 0 0 0 0;\n",
              "      width: 32px;\n",
              "    }\n",
              "\n",
              "    .colab-df-convert:hover {\n",
              "      background-color: #E2EBFA;\n",
              "      box-shadow: 0px 1px 2px rgba(60, 64, 67, 0.3), 0px 1px 3px 1px rgba(60, 64, 67, 0.15);\n",
              "      fill: #174EA6;\n",
              "    }\n",
              "\n",
              "    .colab-df-buttons div {\n",
              "      margin-bottom: 4px;\n",
              "    }\n",
              "\n",
              "    [theme=dark] .colab-df-convert {\n",
              "      background-color: #3B4455;\n",
              "      fill: #D2E3FC;\n",
              "    }\n",
              "\n",
              "    [theme=dark] .colab-df-convert:hover {\n",
              "      background-color: #434B5C;\n",
              "      box-shadow: 0px 1px 3px 1px rgba(0, 0, 0, 0.15);\n",
              "      filter: drop-shadow(0px 1px 2px rgba(0, 0, 0, 0.3));\n",
              "      fill: #FFFFFF;\n",
              "    }\n",
              "  </style>\n",
              "\n",
              "    <script>\n",
              "      const buttonEl =\n",
              "        document.querySelector('#df-fff095c6-67ac-4ecb-b06b-f38ee4e9a143 button.colab-df-convert');\n",
              "      buttonEl.style.display =\n",
              "        google.colab.kernel.accessAllowed ? 'block' : 'none';\n",
              "\n",
              "      async function convertToInteractive(key) {\n",
              "        const element = document.querySelector('#df-fff095c6-67ac-4ecb-b06b-f38ee4e9a143');\n",
              "        const dataTable =\n",
              "          await google.colab.kernel.invokeFunction('convertToInteractive',\n",
              "                                                    [key], {});\n",
              "        if (!dataTable) return;\n",
              "\n",
              "        const docLinkHtml = 'Like what you see? Visit the ' +\n",
              "          '<a target=\"_blank\" href=https://colab.research.google.com/notebooks/data_table.ipynb>data table notebook</a>'\n",
              "          + ' to learn more about interactive tables.';\n",
              "        element.innerHTML = '';\n",
              "        dataTable['output_type'] = 'display_data';\n",
              "        await google.colab.output.renderOutput(dataTable, element);\n",
              "        const docLink = document.createElement('div');\n",
              "        docLink.innerHTML = docLinkHtml;\n",
              "        element.appendChild(docLink);\n",
              "      }\n",
              "    </script>\n",
              "  </div>\n",
              "\n",
              "\n",
              "<div id=\"df-d4e8a9e4-d929-459d-902d-69ab6674863b\">\n",
              "  <button class=\"colab-df-quickchart\" onclick=\"quickchart('df-d4e8a9e4-d929-459d-902d-69ab6674863b')\"\n",
              "            title=\"Suggest charts\"\n",
              "            style=\"display:none;\">\n",
              "\n",
              "<svg xmlns=\"http://www.w3.org/2000/svg\" height=\"24px\"viewBox=\"0 0 24 24\"\n",
              "     width=\"24px\">\n",
              "    <g>\n",
              "        <path d=\"M19 3H5c-1.1 0-2 .9-2 2v14c0 1.1.9 2 2 2h14c1.1 0 2-.9 2-2V5c0-1.1-.9-2-2-2zM9 17H7v-7h2v7zm4 0h-2V7h2v10zm4 0h-2v-4h2v4z\"/>\n",
              "    </g>\n",
              "</svg>\n",
              "  </button>\n",
              "\n",
              "<style>\n",
              "  .colab-df-quickchart {\n",
              "      --bg-color: #E8F0FE;\n",
              "      --fill-color: #1967D2;\n",
              "      --hover-bg-color: #E2EBFA;\n",
              "      --hover-fill-color: #174EA6;\n",
              "      --disabled-fill-color: #AAA;\n",
              "      --disabled-bg-color: #DDD;\n",
              "  }\n",
              "\n",
              "  [theme=dark] .colab-df-quickchart {\n",
              "      --bg-color: #3B4455;\n",
              "      --fill-color: #D2E3FC;\n",
              "      --hover-bg-color: #434B5C;\n",
              "      --hover-fill-color: #FFFFFF;\n",
              "      --disabled-bg-color: #3B4455;\n",
              "      --disabled-fill-color: #666;\n",
              "  }\n",
              "\n",
              "  .colab-df-quickchart {\n",
              "    background-color: var(--bg-color);\n",
              "    border: none;\n",
              "    border-radius: 50%;\n",
              "    cursor: pointer;\n",
              "    display: none;\n",
              "    fill: var(--fill-color);\n",
              "    height: 32px;\n",
              "    padding: 0;\n",
              "    width: 32px;\n",
              "  }\n",
              "\n",
              "  .colab-df-quickchart:hover {\n",
              "    background-color: var(--hover-bg-color);\n",
              "    box-shadow: 0 1px 2px rgba(60, 64, 67, 0.3), 0 1px 3px 1px rgba(60, 64, 67, 0.15);\n",
              "    fill: var(--button-hover-fill-color);\n",
              "  }\n",
              "\n",
              "  .colab-df-quickchart-complete:disabled,\n",
              "  .colab-df-quickchart-complete:disabled:hover {\n",
              "    background-color: var(--disabled-bg-color);\n",
              "    fill: var(--disabled-fill-color);\n",
              "    box-shadow: none;\n",
              "  }\n",
              "\n",
              "  .colab-df-spinner {\n",
              "    border: 2px solid var(--fill-color);\n",
              "    border-color: transparent;\n",
              "    border-bottom-color: var(--fill-color);\n",
              "    animation:\n",
              "      spin 1s steps(1) infinite;\n",
              "  }\n",
              "\n",
              "  @keyframes spin {\n",
              "    0% {\n",
              "      border-color: transparent;\n",
              "      border-bottom-color: var(--fill-color);\n",
              "      border-left-color: var(--fill-color);\n",
              "    }\n",
              "    20% {\n",
              "      border-color: transparent;\n",
              "      border-left-color: var(--fill-color);\n",
              "      border-top-color: var(--fill-color);\n",
              "    }\n",
              "    30% {\n",
              "      border-color: transparent;\n",
              "      border-left-color: var(--fill-color);\n",
              "      border-top-color: var(--fill-color);\n",
              "      border-right-color: var(--fill-color);\n",
              "    }\n",
              "    40% {\n",
              "      border-color: transparent;\n",
              "      border-right-color: var(--fill-color);\n",
              "      border-top-color: var(--fill-color);\n",
              "    }\n",
              "    60% {\n",
              "      border-color: transparent;\n",
              "      border-right-color: var(--fill-color);\n",
              "    }\n",
              "    80% {\n",
              "      border-color: transparent;\n",
              "      border-right-color: var(--fill-color);\n",
              "      border-bottom-color: var(--fill-color);\n",
              "    }\n",
              "    90% {\n",
              "      border-color: transparent;\n",
              "      border-bottom-color: var(--fill-color);\n",
              "    }\n",
              "  }\n",
              "</style>\n",
              "\n",
              "  <script>\n",
              "    async function quickchart(key) {\n",
              "      const quickchartButtonEl =\n",
              "        document.querySelector('#' + key + ' button');\n",
              "      quickchartButtonEl.disabled = true;  // To prevent multiple clicks.\n",
              "      quickchartButtonEl.classList.add('colab-df-spinner');\n",
              "      try {\n",
              "        const charts = await google.colab.kernel.invokeFunction(\n",
              "            'suggestCharts', [key], {});\n",
              "      } catch (error) {\n",
              "        console.error('Error during call to suggestCharts:', error);\n",
              "      }\n",
              "      quickchartButtonEl.classList.remove('colab-df-spinner');\n",
              "      quickchartButtonEl.classList.add('colab-df-quickchart-complete');\n",
              "    }\n",
              "    (() => {\n",
              "      let quickchartButtonEl =\n",
              "        document.querySelector('#df-d4e8a9e4-d929-459d-902d-69ab6674863b button');\n",
              "      quickchartButtonEl.style.display =\n",
              "        google.colab.kernel.accessAllowed ? 'block' : 'none';\n",
              "    })();\n",
              "  </script>\n",
              "</div>\n",
              "\n",
              "    </div>\n",
              "  </div>\n"
            ],
            "application/vnd.google.colaboratory.intrinsic+json": {
              "type": "dataframe",
              "summary": "{\n  \"name\": \"df\",\n  \"rows\": 15,\n  \"fields\": [\n    {\n      \"column\": \"price\",\n      \"properties\": {\n        \"dtype\": \"number\",\n        \"std\": 0.33464541086257177,\n        \"min\": -0.3226414940751427,\n        \"max\": 1.0,\n        \"num_unique_values\": 15,\n        \"samples\": [\n          0.10914417103332825,\n          -0.022206930309102653,\n          1.0\n        ],\n        \"semantic_type\": \"\",\n        \"description\": \"\"\n      }\n    },\n    {\n      \"column\": \"year_sold\",\n      \"properties\": {\n        \"dtype\": \"number\",\n        \"std\": 0.34026784464456145,\n        \"min\": -0.26524294574467705,\n        \"max\": 1.0,\n        \"num_unique_values\": 15,\n        \"samples\": [\n          -0.06798499026392908,\n          0.5093842912706631,\n          0.1106800786922653\n        ],\n        \"semantic_type\": \"\",\n        \"description\": \"\"\n      }\n    },\n    {\n      \"column\": \"property_tax\",\n      \"properties\": {\n        \"dtype\": \"number\",\n        \"std\": 0.4482207078912663,\n        \"min\": -0.44937201198941046,\n        \"max\": 1.0,\n        \"num_unique_values\": 15,\n        \"samples\": [\n          0.18270136901935383,\n          -0.1213948321166703,\n          0.5582661272130773\n        ],\n        \"semantic_type\": \"\",\n        \"description\": \"\"\n      }\n    },\n    {\n      \"column\": \"insurance\",\n      \"properties\": {\n        \"dtype\": \"number\",\n        \"std\": 0.4337761986399278,\n        \"min\": -0.4101345339003087,\n        \"max\": 1.0,\n        \"num_unique_values\": 15,\n        \"samples\": [\n          0.13513540049098968,\n          -0.12080907301035153,\n          0.5545827561691475\n        ],\n        \"semantic_type\": \"\",\n        \"description\": \"\"\n      }\n    },\n    {\n      \"column\": \"beds\",\n      \"properties\": {\n        \"dtype\": \"number\",\n        \"std\": 0.4612609886344505,\n        \"min\": -0.6587289040297659,\n        \"max\": 1.0,\n        \"num_unique_values\": 15,\n        \"samples\": [\n          0.41308164315604107,\n          -0.07074422086147335,\n          0.38768199501951023\n        ],\n        \"semantic_type\": \"\",\n        \"description\": \"\"\n      }\n    },\n    {\n      \"column\": \"baths\",\n      \"properties\": {\n        \"dtype\": \"number\",\n        \"std\": 0.38252488569873655,\n        \"min\": -0.33910858343170774,\n        \"max\": 1.0,\n        \"num_unique_values\": 15,\n        \"samples\": [\n          0.34405215381922344,\n          -0.05773033542827441,\n          0.3986152071909072\n        ],\n        \"semantic_type\": \"\",\n        \"description\": \"\"\n      }\n    },\n    {\n      \"column\": \"sqft\",\n      \"properties\": {\n        \"dtype\": \"number\",\n        \"std\": 0.44937867411880306,\n        \"min\": -0.5256994006405639,\n        \"max\": 1.0,\n        \"num_unique_values\": 15,\n        \"samples\": [\n          0.2701751231019589,\n          -0.07890269118160262,\n          0.4868576920134222\n        ],\n        \"semantic_type\": \"\",\n        \"description\": \"\"\n      }\n    },\n    {\n      \"column\": \"year_built\",\n      \"properties\": {\n        \"dtype\": \"number\",\n        \"std\": 0.3973921999218063,\n        \"min\": -0.9691082962509086,\n        \"max\": 1.0,\n        \"num_unique_values\": 15,\n        \"samples\": [\n          0.0017794976088542516,\n          0.029827932256150554,\n          0.03415853718995697\n        ],\n        \"semantic_type\": \"\",\n        \"description\": \"\"\n      }\n    },\n    {\n      \"column\": \"lot_size\",\n      \"properties\": {\n        \"dtype\": \"number\",\n        \"std\": 0.2844893240319405,\n        \"min\": -0.25053371398172053,\n        \"max\": 1.0,\n        \"num_unique_values\": 15,\n        \"samples\": [\n          0.06193354078073341,\n          0.006076734942743736,\n          0.18524405162973331\n        ],\n        \"semantic_type\": \"\",\n        \"description\": \"\"\n      }\n    },\n    {\n      \"column\": \"basement\",\n      \"properties\": {\n        \"dtype\": \"number\",\n        \"std\": 0.3031026854611185,\n        \"min\": -0.25329883632659206,\n        \"max\": 1.0,\n        \"num_unique_values\": 15,\n        \"samples\": [\n          1.0,\n          -0.04748616377685113,\n          0.10914417103332825\n        ],\n        \"semantic_type\": \"\",\n        \"description\": \"\"\n      }\n    },\n    {\n      \"column\": \"popular\",\n      \"properties\": {\n        \"dtype\": \"number\",\n        \"std\": 0.341802294968996,\n        \"min\": -0.43008292358259376,\n        \"max\": 1.0,\n        \"num_unique_values\": 15,\n        \"samples\": [\n          -0.19893563993450167,\n          0.08325509948409784,\n          -0.1481079586031203\n        ],\n        \"semantic_type\": \"\",\n        \"description\": \"\"\n      }\n    },\n    {\n      \"column\": \"recession\",\n      \"properties\": {\n        \"dtype\": \"number\",\n        \"std\": 0.2966535867504938,\n        \"min\": -0.1213948321166703,\n        \"max\": 1.0,\n        \"num_unique_values\": 15,\n        \"samples\": [\n          -0.04748616377685113,\n          1.0,\n          -0.022206930309102653\n        ],\n        \"semantic_type\": \"\",\n        \"description\": \"\"\n      }\n    },\n    {\n      \"column\": \"property_age\",\n      \"properties\": {\n        \"dtype\": \"number\",\n        \"std\": 0.4028559855398384,\n        \"min\": -0.9691082962509086,\n        \"max\": 1.0,\n        \"num_unique_values\": 15,\n        \"samples\": [\n          -0.01848839610673195,\n          0.09714569526077965,\n          -0.005427648443920148\n        ],\n        \"semantic_type\": \"\",\n        \"description\": \"\"\n      }\n    },\n    {\n      \"column\": \"property_type_Bunglow\",\n      \"properties\": {\n        \"dtype\": \"number\",\n        \"std\": 0.4771689654439412,\n        \"min\": -1.0,\n        \"max\": 1.0,\n        \"num_unique_values\": 15,\n        \"samples\": [\n          0.25329883632659184,\n          -0.0532243096974463,\n          0.3226414940751427\n        ],\n        \"semantic_type\": \"\",\n        \"description\": \"\"\n      }\n    },\n    {\n      \"column\": \"property_type_Condo\",\n      \"properties\": {\n        \"dtype\": \"number\",\n        \"std\": 0.4771689654439412,\n        \"min\": -1.0,\n        \"max\": 1.0,\n        \"num_unique_values\": 15,\n        \"samples\": [\n          -0.25329883632659206,\n          0.0532243096974463,\n          -0.3226414940751427\n        ],\n        \"semantic_type\": \"\",\n        \"description\": \"\"\n      }\n    }\n  ]\n}"
            }
          },
          "metadata": {},
          "execution_count": 26
        }
      ]
    },
    {
      "cell_type": "code",
      "execution_count": 3,
      "metadata": {
        "colab": {
          "base_uri": "https://localhost:8080/"
        },
        "id": "tEdw39vuB8M3",
        "outputId": "6c393408-d6ea-49b9-bb43-cd9d986135bf"
      },
      "outputs": [
        {
          "output_type": "execute_result",
          "data": {
            "text/plain": [
              "(1863, 15)"
            ]
          },
          "metadata": {},
          "execution_count": 3
        }
      ],
      "source": [
        "df.shape"
      ]
    },
    {
      "cell_type": "markdown",
      "metadata": {
        "id": "Sy78LzTLB8M4"
      },
      "source": [
        "## Linear Regression Model"
      ]
    },
    {
      "cell_type": "code",
      "execution_count": 27,
      "metadata": {
        "id": "bP9ncfWmB8M5"
      },
      "outputs": [],
      "source": [
        "# import linear regression model\n",
        "from sklearn.linear_model import LinearRegression"
      ]
    },
    {
      "cell_type": "code",
      "execution_count": 5,
      "metadata": {
        "id": "POGS_B5-B8M6"
      },
      "outputs": [],
      "source": [
        "# seperate input features in x\n",
        "x = df.drop('price', axis=1)\n",
        "\n",
        "# store the target variable in y\n",
        "y = df['price']"
      ]
    },
    {
      "cell_type": "markdown",
      "metadata": {
        "id": "o3kLtzVHB8M7"
      },
      "source": [
        "**Train Test Split**\n",
        "* Training sets are used to fit and tune your models.\n",
        "* Test sets are put aside as \"unseen\" data to evaluate your models.\n",
        "* The `train_test_split()` function splits data into randomized subsets."
      ]
    },
    {
      "cell_type": "code",
      "execution_count": 28,
      "metadata": {
        "id": "f2nm8IqRB8M7"
      },
      "outputs": [],
      "source": [
        "# import module\n",
        "from sklearn.model_selection import train_test_split\n",
        "\n",
        "# Split the dataset\n",
        "x_train, x_test, y_train, y_test = train_test_split(x,y, test_size=0.2, random_state=1234, stratify=x.property_type_Condo)"
      ]
    },
    {
      "cell_type": "markdown",
      "source": [],
      "metadata": {
        "id": "J-dtUysgGQEn"
      }
    },
    {
      "cell_type": "code",
      "execution_count": 29,
      "metadata": {
        "colab": {
          "base_uri": "https://localhost:8080/"
        },
        "id": "ctlP_OtlB8M8",
        "outputId": "90f8eeec-853e-4867-a134-722ce82d1bea"
      },
      "outputs": [
        {
          "output_type": "execute_result",
          "data": {
            "text/plain": [
              "((1490, 14), (1490,), (373, 14), (373,))"
            ]
          },
          "metadata": {},
          "execution_count": 29
        }
      ],
      "source": [
        "x_train.shape, y_train.shape, x_test.shape, y_test.shape"
      ]
    },
    {
      "cell_type": "code",
      "source": [
        "# train your model\n",
        "lrmodel = LinearRegression().fit(x_train,y_train)"
      ],
      "metadata": {
        "id": "4PmBFL7fIBRp"
      },
      "execution_count": 30,
      "outputs": []
    },
    {
      "cell_type": "code",
      "source": [
        "x_train.columns"
      ],
      "metadata": {
        "colab": {
          "base_uri": "https://localhost:8080/"
        },
        "id": "TEqVTo6DIE9E",
        "outputId": "9828588f-ceae-4bb8-cfb0-45ead4e03a7c"
      },
      "execution_count": 31,
      "outputs": [
        {
          "output_type": "execute_result",
          "data": {
            "text/plain": [
              "Index(['year_sold', 'property_tax', 'insurance', 'beds', 'baths', 'sqft',\n",
              "       'year_built', 'lot_size', 'basement', 'popular', 'recession',\n",
              "       'property_age', 'property_type_Bunglow', 'property_type_Condo'],\n",
              "      dtype='object')"
            ]
          },
          "metadata": {},
          "execution_count": 31
        }
      ]
    },
    {
      "cell_type": "code",
      "source": [
        "lrmodel.coef_"
      ],
      "metadata": {
        "colab": {
          "base_uri": "https://localhost:8080/"
        },
        "id": "XjG1vk8OII6K",
        "outputId": "0a37b108-5fe2-4be7-d6bf-1ab48fe12d56"
      },
      "execution_count": 15,
      "outputs": [
        {
          "output_type": "execute_result",
          "data": {
            "text/plain": [
              "array([ 7.39343051e+03, -5.52266645e+02,  2.61019578e+03,  6.40333989e+03,\n",
              "        7.74544507e+03,  3.14482629e+01,  4.03830675e+03,  1.71898243e-01,\n",
              "       -8.19442590e+03, -6.68356777e+03, -5.43848648e+04,  3.35512376e+03,\n",
              "        1.07294801e+04, -1.07294801e+04])"
            ]
          },
          "metadata": {},
          "execution_count": 15
        }
      ]
    },
    {
      "cell_type": "code",
      "execution_count": 16,
      "metadata": {
        "id": "5R2OX08RB8M9"
      },
      "outputs": [],
      "source": [
        "\n",
        "\n",
        "# make preditions on train set\n",
        "train_pred = lrmodel.predict(x_train)"
      ]
    },
    {
      "cell_type": "code",
      "execution_count": 33,
      "metadata": {
        "colab": {
          "base_uri": "https://localhost:8080/"
        },
        "id": "KhHJHLYAB8M-",
        "outputId": "82dc67c9-5860-4fa8-811c-71a150038495"
      },
      "outputs": [
        {
          "output_type": "stream",
          "name": "stdout",
          "text": [
            "Train error is 86076.93901722164\n"
          ]
        }
      ],
      "source": [
        "# evaluate your model\n",
        "# we need mean absolute error\n",
        "from sklearn.metrics import mean_absolute_error\n",
        "\n",
        "train_mae = mean_absolute_error(train_pred, y_train)\n",
        "print('Train error is', train_mae)"
      ]
    },
    {
      "cell_type": "code",
      "execution_count": 34,
      "metadata": {
        "colab": {
          "base_uri": "https://localhost:8080/"
        },
        "id": "TE1R-i5UB8M-",
        "outputId": "653ab436-e9a4-43f3-fc0a-dffc13eca70a"
      },
      "outputs": [
        {
          "output_type": "execute_result",
          "data": {
            "text/plain": [
              "array([ 7.39343051e+03, -5.52266645e+02,  2.61019578e+03,  6.40333989e+03,\n",
              "        7.74544507e+03,  3.14482629e+01,  4.03830675e+03,  1.71898243e-01,\n",
              "       -8.19442590e+03, -6.68356777e+03, -5.43848648e+04,  3.35512376e+03,\n",
              "        1.07294801e+04, -1.07294801e+04])"
            ]
          },
          "metadata": {},
          "execution_count": 34
        }
      ],
      "source": [
        "lrmodel.coef_"
      ]
    },
    {
      "cell_type": "code",
      "execution_count": 19,
      "metadata": {
        "colab": {
          "base_uri": "https://localhost:8080/"
        },
        "id": "KA3dkUrtB8M_",
        "outputId": "5d54925e-82e8-4b8e-f358-b140b2b9f6ef"
      },
      "outputs": [
        {
          "output_type": "execute_result",
          "data": {
            "text/plain": [
              "-22707915.13773537"
            ]
          },
          "metadata": {},
          "execution_count": 19
        }
      ],
      "source": [
        "lrmodel.intercept_"
      ]
    },
    {
      "cell_type": "code",
      "execution_count": 20,
      "metadata": {
        "colab": {
          "base_uri": "https://localhost:8080/"
        },
        "id": "wCgOl4yTB8NA",
        "outputId": "2edb6765-f369-420f-fcc4-c705c5e13492"
      },
      "outputs": [
        {
          "output_type": "stream",
          "name": "stdout",
          "text": [
            "Test error is 87401.08264872458\n"
          ]
        }
      ],
      "source": [
        "# make predictions om test set\n",
        "ypred = lrmodel.predict(x_test)\n",
        "\n",
        "#evaluate the model\n",
        "test_mae = mean_absolute_error(ypred, y_test)\n",
        "print('Test error is', test_mae)"
      ]
    },
    {
      "cell_type": "markdown",
      "metadata": {
        "id": "wznNQ7FRB8NA"
      },
      "source": [
        "### Our model is still not good beacuse we need a model with Mean Absolute Error < $70,000\n",
        "\n",
        "Note - We have not scaled the features and not tuned the model."
      ]
    },
    {
      "cell_type": "markdown",
      "metadata": {
        "id": "Jazn60ffB8NB"
      },
      "source": [
        "    "
      ]
    },
    {
      "cell_type": "markdown",
      "metadata": {
        "id": "LfFueopAB8NB"
      },
      "source": [
        "## Decision Tree Model"
      ]
    },
    {
      "cell_type": "code",
      "execution_count": 35,
      "metadata": {
        "id": "xOvhXma5B8NB"
      },
      "outputs": [],
      "source": [
        "# import decision tree model\n",
        "from sklearn.tree import DecisionTreeRegressor"
      ]
    },
    {
      "cell_type": "code",
      "execution_count": 36,
      "metadata": {
        "id": "xaaMACVyB8NC"
      },
      "outputs": [],
      "source": [
        "# create an instance of the class\n",
        "dt = DecisionTreeRegressor(max_depth=3, max_features=10, random_state=567)"
      ]
    },
    {
      "cell_type": "code",
      "execution_count": 37,
      "metadata": {
        "id": "iXdwSnjbB8NC"
      },
      "outputs": [],
      "source": [
        "# train the model\n",
        "dtmodel = dt.fit(x_train,y_train)"
      ]
    },
    {
      "cell_type": "code",
      "execution_count": 38,
      "metadata": {
        "id": "L8GUHSv8B8ND"
      },
      "outputs": [],
      "source": [
        "# make predictions using the test set\n",
        "ytest_pred = dtmodel.predict(x_test)"
      ]
    },
    {
      "cell_type": "code",
      "execution_count": 39,
      "metadata": {
        "colab": {
          "base_uri": "https://localhost:8080/"
        },
        "id": "xM27zRrXB8ND",
        "outputId": "6dda24c9-1d92-4524-c83e-21d683ddde7b"
      },
      "outputs": [
        {
          "output_type": "execute_result",
          "data": {
            "text/plain": [
              "64873.29931059558"
            ]
          },
          "metadata": {},
          "execution_count": 39
        }
      ],
      "source": [
        "# evaluate the model\n",
        "test_mae = mean_absolute_error(ytest_pred, y_test)\n",
        "test_mae"
      ]
    },
    {
      "cell_type": "markdown",
      "metadata": {
        "id": "zEeBB4QeB8NE"
      },
      "source": [
        "## How do I know if my model is Overfitting or Generalised?"
      ]
    },
    {
      "cell_type": "code",
      "execution_count": 40,
      "metadata": {
        "id": "pTTsgqiiB8NE"
      },
      "outputs": [],
      "source": [
        "# make predictions on train set\n",
        "ytrain_pred = dtmodel.predict(x_train)"
      ]
    },
    {
      "cell_type": "code",
      "execution_count": 41,
      "metadata": {
        "colab": {
          "base_uri": "https://localhost:8080/"
        },
        "id": "NQrEMClDB8NE",
        "outputId": "425b154b-ebdb-4830-a693-124c64b3e6fe"
      },
      "outputs": [
        {
          "output_type": "execute_result",
          "data": {
            "text/plain": [
              "61456.28000053516"
            ]
          },
          "metadata": {},
          "execution_count": 41
        }
      ],
      "source": [
        "# import mean absolute error metric\n",
        "from sklearn.metrics import mean_absolute_error\n",
        "\n",
        "# evaluate the model\n",
        "train_mae = mean_absolute_error(ytrain_pred, y_train)\n",
        "train_mae"
      ]
    },
    {
      "cell_type": "markdown",
      "metadata": {
        "id": "pI8TC716B8NF"
      },
      "source": [
        "    "
      ]
    },
    {
      "cell_type": "markdown",
      "metadata": {
        "id": "HEhMPtW6B8NF"
      },
      "source": [
        "## Plot the tree"
      ]
    },
    {
      "cell_type": "code",
      "execution_count": 42,
      "metadata": {
        "colab": {
          "base_uri": "https://localhost:8080/"
        },
        "id": "EiwpH2inB8NG",
        "outputId": "d10dfd8b-ec2f-427b-dc7e-14fca571e18e"
      },
      "outputs": [
        {
          "output_type": "execute_result",
          "data": {
            "text/plain": [
              "array(['year_sold', 'property_tax', 'insurance', 'beds', 'baths', 'sqft',\n",
              "       'year_built', 'lot_size', 'basement', 'popular', 'recession',\n",
              "       'property_age', 'property_type_Bunglow', 'property_type_Condo'],\n",
              "      dtype=object)"
            ]
          },
          "metadata": {},
          "execution_count": 42
        }
      ],
      "source": [
        "# get the features\n",
        "dtmodel.feature_names_in_"
      ]
    },
    {
      "cell_type": "code",
      "execution_count": 43,
      "metadata": {
        "colab": {
          "base_uri": "https://localhost:8080/",
          "height": 406
        },
        "id": "GE9t9mCAB8NG",
        "outputId": "a9bf5696-8526-41ff-9b82-19c5c5846725"
      },
      "outputs": [
        {
          "output_type": "display_data",
          "data": {
            "text/plain": [
              "<Figure size 640x480 with 1 Axes>"
            ],
            "image/png": "[encoded data removed]"
          },
          "metadata": {}
        }
      ],
      "source": [
        "# plot the tree\n",
        "from sklearn import tree\n",
        "\n",
        "# Plot the tree with feature names\n",
        "tree.plot_tree(dtmodel, feature_names=dtmodel.feature_names_in_)\n",
        "\n",
        "#tree.plot_tree(dtmodel)\n",
        "#plt.show(dpi=300)\n",
        "\n",
        "# Save the plot to a file\n",
        "plt.savefig('tree.png', dpi=300)"
      ]
    },
    {
      "cell_type": "markdown",
      "metadata": {
        "id": "tq_K5VgDB8NH"
      },
      "source": [
        "    "
      ]
    },
    {
      "cell_type": "markdown",
      "metadata": {
        "id": "ts4TWhy7B8NI"
      },
      "source": [
        "    "
      ]
    },
    {
      "cell_type": "markdown",
      "metadata": {
        "id": "Lom9gVydB8NI"
      },
      "source": [
        "    "
      ]
    },
    {
      "cell_type": "markdown",
      "metadata": {
        "id": "IM0x62qRB8NI"
      },
      "source": [
        "## Random Forest Model"
      ]
    },
    {
      "cell_type": "code",
      "execution_count": 44,
      "metadata": {
        "id": "4v_yX2P1B8NJ"
      },
      "outputs": [],
      "source": [
        "# import decision tree model\n",
        "from sklearn.ensemble import RandomForestRegressor"
      ]
    },
    {
      "cell_type": "code",
      "execution_count": 45,
      "metadata": {
        "id": "q-SL_uf2B8NJ"
      },
      "outputs": [],
      "source": [
        "# create an instance of the model\n",
        "rf = RandomForestRegressor(n_estimators=200, criterion='absolute_error')"
      ]
    },
    {
      "cell_type": "code",
      "execution_count": 46,
      "metadata": {
        "id": "oxZbruY0B8NJ"
      },
      "outputs": [],
      "source": [
        "# train the model\n",
        "rfmodel = rf.fit(x_train,y_train)"
      ]
    },
    {
      "cell_type": "code",
      "execution_count": 47,
      "metadata": {
        "id": "0xxstzD8B8NU"
      },
      "outputs": [],
      "source": [
        "# make prediction on train set\n",
        "ytrain_pred = rfmodel.predict(x_train)"
      ]
    },
    {
      "cell_type": "code",
      "execution_count": 48,
      "metadata": {
        "id": "vSZz0pw-B8NV"
      },
      "outputs": [],
      "source": [
        "# make predictions on the x_test values\n",
        "ytest_pred = rfmodel.predict(x_test)"
      ]
    },
    {
      "cell_type": "code",
      "execution_count": 49,
      "metadata": {
        "colab": {
          "base_uri": "https://localhost:8080/"
        },
        "id": "z8qGxAXcB8NV",
        "outputId": "95e2fdfe-20ac-48f4-e1d9-7c6466297de8"
      },
      "outputs": [
        {
          "output_type": "execute_result",
          "data": {
            "text/plain": [
              "46803.387004021446"
            ]
          },
          "metadata": {},
          "execution_count": 49
        }
      ],
      "source": [
        "# evaluate the model\n",
        "test_mae = mean_absolute_error(ytest_pred, y_test)\n",
        "test_mae"
      ]
    },
    {
      "cell_type": "code",
      "execution_count": 50,
      "metadata": {
        "id": "njQtMVxfB8NW"
      },
      "outputs": [],
      "source": [
        "# Individual Decision Trees\n",
        "# tree.plot_tree(rfmodel.estimators_[2], feature_names=dtmodel.feature_names_in_)"
      ]
    },
    {
      "cell_type": "markdown",
      "metadata": {
        "id": "8rzGwVmdB8NX"
      },
      "source": [
        "    "
      ]
    },
    {
      "cell_type": "markdown",
      "metadata": {
        "id": "7q4VjGe0B8NX"
      },
      "source": [
        "## Pickle:\n",
        "\n",
        "* The pickle module implements a powerful algorithm for serializing and de-serializing a Python object structure.\n",
        "\n",
        "* The saving of data is called Serialization, and loading the data is called De-serialization.\n",
        "\n",
        "**Pickle** model provides the following functions:\n",
        "* **`pickle.dump`** to serialize an object hierarchy, you simply use `dump()`.\n",
        "* **`pickle.load`** to deserialize a data stream, you call the `loads()` function."
      ]
    },
    {
      "cell_type": "code",
      "execution_count": 55,
      "metadata": {
        "id": "_wcu8Z99B8NY"
      },
      "outputs": [],
      "source": [
        "# import pickle to save model\n",
        "import pickle\n",
        "\n",
        "# Save the trained model on the drive\n",
        "pickle.dump(rfmodel, open('RE_Model','wb'))"
      ]
    },
    {
      "cell_type": "code",
      "execution_count": 56,
      "metadata": {
        "id": "xSrPHRdwB8NZ"
      },
      "outputs": [],
      "source": [
        "# Load the pickled model\n",
        "RE_Model = pickle.load(open('RE_Model','rb'))"
      ]
    },
    {
      "cell_type": "raw",
      "metadata": {
        "id": "awotfyeDB8NZ"
      },
      "source": [
        "np.array(xtrain.loc[22])\n",
        "ytrain[22]"
      ]
    },
    {
      "cell_type": "code",
      "execution_count": 57,
      "metadata": {
        "colab": {
          "base_uri": "https://localhost:8080/"
        },
        "id": "DlAKMCkJB8Na",
        "outputId": "ba895267-ad36-421c-de1f-2025da721d3b"
      },
      "outputs": [
        {
          "output_type": "stream",
          "name": "stderr",
          "text": [
            "/usr/local/lib/python3.10/dist-packages/sklearn/base.py:493: UserWarning: X does not have valid feature names, but RandomForestRegressor was fitted with feature names\n",
            "  warnings.warn(\n"
          ]
        },
        {
          "output_type": "execute_result",
          "data": {
            "text/plain": [
              "array([254232.9])"
            ]
          },
          "metadata": {},
          "execution_count": 57
        }
      ],
      "source": [
        "# Use the loaded pickled model to make predictions\n",
        "RE_Model.predict([[2012, 216, 74, 1 , 1, 618, 2000, 600, 1, 0, 0, 6, 0,1]])"
      ]
    },
    {
      "cell_type": "code",
      "execution_count": null,
      "metadata": {
        "id": "8JHn9Bj5B8Nb"
      },
      "outputs": [],
      "source": []
    }
  ],
  "metadata": {
    "anaconda-cloud": {},
    "kernelspec": {
      "display_name": "Python 3 (ipykernel)",
      "language": "python",
      "name": "python3"
    },
    "language_info": {
      "codemirror_mode": {
        "name": "ipython",
        "version": 3
      },
      "file_extension": ".py",
      "mimetype": "text/x-python",
      "name": "python",
      "nbconvert_exporter": "python",
      "pygments_lexer": "ipython3",
      "version": "3.9.12"
    },
    "colab": {
      "provenance": [],
      "include_colab_link": true
    }
  },
  "nbformat": 4,
  "nbformat_minor": 0
}